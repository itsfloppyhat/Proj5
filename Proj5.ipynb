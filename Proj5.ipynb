{
  "nbformat": 4,
  "nbformat_minor": 0,
  "metadata": {
    "colab": {
      "provenance": [],
      "authorship_tag": "ABX9TyPaJyX3w6Ozw1m2AMS/MywM",
      "include_colab_link": true
    },
    "kernelspec": {
      "name": "python3",
      "display_name": "Python 3"
    },
    "language_info": {
      "name": "python"
    }
  },
  "cells": [
    {
      "cell_type": "markdown",
      "metadata": {
        "id": "view-in-github",
        "colab_type": "text"
      },
      "source": [
        "<a href=\"https://colab.research.google.com/github/itsfloppyhat/Proj5/blob/main/Proj5.ipynb\" target=\"_parent\"><img src=\"https://colab.research.google.com/assets/colab-badge.svg\" alt=\"Open In Colab\"/></a>"
      ]
    },
    {
      "cell_type": "markdown",
      "source": [
        "Import files"
      ],
      "metadata": {
        "id": "SCMPojYD76vw"
      }
    },
    {
      "cell_type": "code",
      "execution_count": null,
      "metadata": {
        "id": "pAJKIxMO7yMe"
      },
      "outputs": [],
      "source": [
        "import pandas as pd\n",
        "from nltk.corpus import stopwords\n",
        "from nltk.stem import WordNetLemmatizer\n",
        "import nltk, re, string"
      ]
    },
    {
      "cell_type": "markdown",
      "source": [
        "Add data and ensure it is available"
      ],
      "metadata": {
        "id": "UvA9zYnP8Z_0"
      }
    },
    {
      "cell_type": "code",
      "source": [
        "df = pd.read_csv(\"bike_rental_reviews.csv\")\n",
        "\n",
        "for pkg in [\"stopwords\", \"wordnet\"]:\n",
        "    try: nltk.data.find(f\"corpora/{pkg}\")\n",
        "    except LookupError: nltk.download(pkg)"
      ],
      "metadata": {
        "colab": {
          "base_uri": "https://localhost:8080/"
        },
        "id": "BLyXwc7s8CGd",
        "outputId": "60fff266-7aa4-4495-ae3f-88d6c331c425"
      },
      "execution_count": null,
      "outputs": [
        {
          "output_type": "stream",
          "name": "stderr",
          "text": [
            "[nltk_data] Downloading package stopwords to /root/nltk_data...\n",
            "[nltk_data]   Unzipping corpora/stopwords.zip.\n",
            "[nltk_data] Downloading package wordnet to /root/nltk_data...\n"
          ]
        }
      ]
    },
    {
      "cell_type": "markdown",
      "source": [
        "Clean Text"
      ],
      "metadata": {
        "id": "7AmJMGPb8WQc"
      }
    },
    {
      "cell_type": "code",
      "source": [
        "sw = set(stopwords.words('english'))\n",
        "lemm = WordNetLemmatizer()\n",
        "punct_table = str.maketrans('', '', string.punctuation)\n",
        "\n",
        "def clean_text(s):\n",
        "    if not isinstance(s, str): return \"\"\n",
        "    s = s.lower()\n",
        "    s = re.sub(r\"\\d+\", \" \", s)\n",
        "    s = s.translate(punct_table)\n",
        "    toks = [w for w in s.split() if w not in sw]\n",
        "    toks = [lemm.lemmatize(w) for w in toks]\n",
        "    return \" \".join(toks)"
      ],
      "metadata": {
        "id": "crD3ceI88S3Z"
      },
      "execution_count": null,
      "outputs": []
    },
    {
      "cell_type": "markdown",
      "source": [
        "pick text/labels"
      ],
      "metadata": {
        "id": "vznI74bD8fZM"
      }
    },
    {
      "cell_type": "code",
      "source": [
        "text_col = next((c for c in df.columns if c.lower() in\n",
        "                 {\"review\",\"text\",\"comment\",\"message\",\"content\",\"review_text\",\"feedback\",\"body\"}), None)\n",
        "label_col = next((c for c in df.columns if c.lower() in {\"sentiment\",\"label\",\"polarity\",\"target\"}), None)\n",
        "rating_col = next((c for c in df.columns if c.lower() in {\"rating\",\"stars\",\"score\"}), None)\n",
        "\n",
        "assert text_col is not None, \"Could not find review text column.\"\n",
        "print(\"Text column:\", text_col)\n"
      ],
      "metadata": {
        "colab": {
          "base_uri": "https://localhost:8080/"
        },
        "id": "Zs0np3b_8hS3",
        "outputId": "be64bb05-b444-44ce-c39d-95adb01f0823"
      },
      "execution_count": null,
      "outputs": [
        {
          "output_type": "stream",
          "name": "stdout",
          "text": [
            "Text column: review_text\n"
          ]
        }
      ]
    },
    {
      "cell_type": "markdown",
      "source": [
        "Detect class labels positive, negative, neutral"
      ],
      "metadata": {
        "id": "z9k1sl6n8phS"
      }
    },
    {
      "cell_type": "code",
      "source": [
        "if label_col is None and rating_col is not None:\n",
        "    ser = pd.to_numeric(df[rating_col], errors=\"coerce\")\n",
        "    if ser.max() <= 5:\n",
        "        df[\"sentiment_label\"] = ser.apply(lambda v: \"positive\" if v >= 4 else (\"negative\" if v <= 2 else \"neutral\"))\n",
        "    else:\n",
        "        df[\"sentiment_label\"] = ser.apply(lambda v: \"positive\" if v >= 7 else (\"negative\" if v <= 3 else \"neutral\"))\n",
        "    label_col = \"sentiment_label\"\n",
        "elif label_col is not None:\n",
        "    def norm_label(x):\n",
        "        x = str(x).strip().lower()\n",
        "        if x in {\"positive\",\"pos\",\"5\",\"4\",\"good\",\"great\"}: return \"positive\"\n",
        "        if x in {\"negative\",\"neg\",\"bad\",\"poor\",\"1\"}: return \"negative\"\n",
        "        if x in {\"neutral\",\"neu\",\"3\"}: return \"neutral\"\n",
        "        try:\n",
        "            v = float(x);\n",
        "            return \"positive\" if v>=4 else (\"negative\" if v<=2 else \"neutral\")\n",
        "        except: return None\n",
        "    df[\"sentiment_label\"] = df[label_col].apply(norm_label)\n",
        "    label_col = \"sentiment_label\"\n",
        "else:\n",
        "    raise ValueError(\"Need either a sentiment label column or a rating column.\")\n",
        "\n",
        "df[\"clean_text\"] = df[text_col].astype(str).apply(clean_text)\n",
        "df_model = df[[\"clean_text\", label_col]].dropna().copy()"
      ],
      "metadata": {
        "id": "rcf0utUM8swg"
      },
      "execution_count": null,
      "outputs": []
    },
    {
      "cell_type": "markdown",
      "source": [
        "TF/IDF"
      ],
      "metadata": {
        "id": "rCvOQJYt8z6u"
      }
    },
    {
      "cell_type": "code",
      "source": [
        "from sklearn.model_selection import train_test_split\n",
        "from sklearn.feature_extraction.text import TfidfVectorizer\n",
        "from sklearn.naive_bayes import MultinomialNB\n",
        "from sklearn.linear_model import LogisticRegression\n",
        "from sklearn.metrics import accuracy_score, classification_report, f1_score, confusion_matrix\n",
        "\n",
        "# handle rare classes\n",
        "min_per_class = 5\n",
        "keep = df_model[label_col].value_counts()\n",
        "keep = keep[keep >= min_per_class].index\n",
        "df_model = df_model[df_model[label_col].isin(keep)].reset_index(drop=True)\n",
        "\n",
        "X_train, X_test, y_train, y_test = train_test_split(\n",
        "    df_model[\"clean_text\"], df_model[label_col],\n",
        "    test_size=0.2, stratify=df_model[label_col], random_state=42\n",
        ")\n",
        "\n",
        "tfidf = TfidfVectorizer(max_features=15000, ngram_range=(1,2), min_df=2, sublinear_tf=True)\n",
        "Xtr = tfidf.fit_transform(X_train); Xte = tfidf.transform(X_test)\n",
        "\n",
        "# NB\n",
        "nb = MultinomialNB().fit(Xtr, y_train)\n",
        "nb_pred = nb.predict(Xte)\n",
        "print(\"NB acc:\", accuracy_score(y_test, nb_pred), \"macroF1:\", f1_score(y_test, nb_pred, average=\"macro\"))\n",
        "print(classification_report(y_test, nb_pred, zero_division=0))\n",
        "\n",
        "# LR (accuracy-first)\n",
        "lr = LogisticRegression(max_iter=4000, C=2.0, class_weight=\"balanced\", solver=\"liblinear\", multi_class=\"ovr\").fit(Xtr, y_train)\n",
        "lr_pred = lr.predict(Xte)\n",
        "print(\"LR acc:\", accuracy_score(y_test, lr_pred), \"macroF1:\", f1_score(y_test, lr_pred, average=\"macro\"))\n",
        "print(classification_report(y_test, lr_pred, zero_division=0))"
      ],
      "metadata": {
        "colab": {
          "base_uri": "https://localhost:8080/"
        },
        "id": "n52TO4dL809v",
        "outputId": "ad2d91a5-87aa-4d42-e383-d05453fcadf5"
      },
      "execution_count": null,
      "outputs": [
        {
          "output_type": "stream",
          "name": "stdout",
          "text": [
            "NB acc: 1.0 macroF1: 1.0\n",
            "              precision    recall  f1-score   support\n",
            "\n",
            "    negative       1.00      1.00      1.00      3368\n",
            "     neutral       1.00      1.00      1.00      3277\n",
            "    positive       1.00      1.00      1.00      3355\n",
            "\n",
            "    accuracy                           1.00     10000\n",
            "   macro avg       1.00      1.00      1.00     10000\n",
            "weighted avg       1.00      1.00      1.00     10000\n",
            "\n"
          ]
        },
        {
          "output_type": "stream",
          "name": "stderr",
          "text": [
            "/usr/local/lib/python3.12/dist-packages/sklearn/linear_model/_logistic.py:1256: FutureWarning: 'multi_class' was deprecated in version 1.5 and will be removed in 1.7. Use OneVsRestClassifier(LogisticRegression(..)) instead. Leave it to its default value to avoid this warning.\n",
            "  warnings.warn(\n"
          ]
        },
        {
          "output_type": "stream",
          "name": "stdout",
          "text": [
            "LR acc: 1.0 macroF1: 1.0\n",
            "              precision    recall  f1-score   support\n",
            "\n",
            "    negative       1.00      1.00      1.00      3368\n",
            "     neutral       1.00      1.00      1.00      3277\n",
            "    positive       1.00      1.00      1.00      3355\n",
            "\n",
            "    accuracy                           1.00     10000\n",
            "   macro avg       1.00      1.00      1.00     10000\n",
            "weighted avg       1.00      1.00      1.00     10000\n",
            "\n"
          ]
        }
      ]
    },
    {
      "cell_type": "markdown",
      "source": [
        "Vader"
      ],
      "metadata": {
        "id": "CTEAqEO-88TG"
      }
    },
    {
      "cell_type": "code",
      "source": [
        "import nltk\n",
        "from nltk.sentiment.vader import SentimentIntensityAnalyzer\n",
        "try: nltk.data.find('sentiment/vader_lexicon')\n",
        "except LookupError: nltk.download('vader_lexicon')\n",
        "\n",
        "sid = SentimentIntensityAnalyzer()\n",
        "scores = df[text_col].fillna(\"\").astype(str).apply(sid.polarity_scores)\n",
        "v = pd.DataFrame(list(scores.values), index=df.index)\n",
        "df[\"vader_compound\"] = v[\"compound\"]"
      ],
      "metadata": {
        "colab": {
          "base_uri": "https://localhost:8080/"
        },
        "id": "n4eY2BHv89gS",
        "outputId": "f7d9ba7f-80f3-4c66-fca0-28937fa11772"
      },
      "execution_count": null,
      "outputs": [
        {
          "output_type": "stream",
          "name": "stderr",
          "text": [
            "[nltk_data] Downloading package vader_lexicon to /root/nltk_data...\n"
          ]
        }
      ]
    },
    {
      "cell_type": "code",
      "source": [
        "from sklearn.decomposition import LatentDirichletAllocation\n",
        "from sklearn.feature_extraction.text import CountVectorizer\n",
        "import numpy as np\n",
        "\n",
        "cv = CountVectorizer(max_features=20000, ngram_range=(1,2), min_df=3, stop_words=\"english\")\n",
        "X = cv.fit_transform(df[\"clean_text\"])\n",
        "lda = LatentDirichletAllocation(n_components=8, random_state=42).fit(X)\n",
        "vocab = np.array(cv.get_feature_names_out())\n",
        "\n",
        "n_words = 12\n",
        "topics_topwords = {}\n",
        "for i, comp in enumerate(lda.components_):\n",
        "    top_idx = np.argsort(comp)[::-1][:n_words]\n",
        "    topics_topwords[i] = vocab[top_idx].tolist()\n",
        "\n",
        "topic_names = {\n",
        "    0: \"Rental experience & fun\",\n",
        "    1: \"Comfort & urgent improvements\",\n",
        "    2: \"Customer service & value for money\",\n",
        "    3: \"Bike condition problems\",\n",
        "    4: \"App issues & wait times\",\n",
        "    5: \"Ride quality (best vs worst)\",\n",
        "    6: \"Positive experiences & praise\",\n",
        "    7: \"Staff helpfulness & seamless process\",\n",
        "}\n",
        "named_topics = [\n",
        "    {\"topic_id\": i, \"topic_name\": topic_names.get(i, f\"Topic {i}\"), \"top_words\": words}\n",
        "    for i, words in topics_topwords.items()\n",
        "]\n",
        "topics_df = pd.DataFrame(named_topics).sort_values(\"topic_id\").reset_index(drop=True)\n",
        "display(topics_df)\n"
      ],
      "metadata": {
        "colab": {
          "base_uri": "https://localhost:8080/",
          "height": 433
        },
        "id": "yCVu5jCk9Haw",
        "outputId": "85e2c2e7-7b48-4891-8372-2a370bf769fe"
      },
      "execution_count": null,
      "outputs": [
        {
          "output_type": "display_data",
          "data": {
            "text/plain": [
              "   topic_id                            topic_name  \\\n",
              "0         0               Rental experience & fun   \n",
              "1         1         Comfort & urgent improvements   \n",
              "2         2    Customer service & value for money   \n",
              "3         3               Bike condition problems   \n",
              "4         4               App issues & wait times   \n",
              "5         5          Ride quality (best vs worst)   \n",
              "6         6         Positive experiences & praise   \n",
              "7         7  Staff helpfulness & seamless process   \n",
              "\n",
              "                                           top_words  \n",
              "0  [rental, process, fast, fun, fast friendly, im...  \n",
              "1  [comfort, seat, seat comfort, service, need, p...  \n",
              "2  [service, customer, customer service, worth mo...  \n",
              "3  [bike, condition, experience, decent, rental, ...  \n",
              "4  [disappointed, disaster disappointed, disaster...  \n",
              "5  [ride, entire, process, quality, experience, e...  \n",
              "6  [experience, loved, ride, bike, absolutely lov...  \n",
              "7  [process, rental, staff, support staff, suppor...  "
            ],
            "text/html": [
              "\n",
              "  <div id=\"df-2f786dd0-6c50-46c0-963f-b67ee584c8e5\" class=\"colab-df-container\">\n",
              "    <div>\n",
              "<style scoped>\n",
              "    .dataframe tbody tr th:only-of-type {\n",
              "        vertical-align: middle;\n",
              "    }\n",
              "\n",
              "    .dataframe tbody tr th {\n",
              "        vertical-align: top;\n",
              "    }\n",
              "\n",
              "    .dataframe thead th {\n",
              "        text-align: right;\n",
              "    }\n",
              "</style>\n",
              "<table border=\"1\" class=\"dataframe\">\n",
              "  <thead>\n",
              "    <tr style=\"text-align: right;\">\n",
              "      <th></th>\n",
              "      <th>topic_id</th>\n",
              "      <th>topic_name</th>\n",
              "      <th>top_words</th>\n",
              "    </tr>\n",
              "  </thead>\n",
              "  <tbody>\n",
              "    <tr>\n",
              "      <th>0</th>\n",
              "      <td>0</td>\n",
              "      <td>Rental experience &amp; fun</td>\n",
              "      <td>[rental, process, fast, fun, fast friendly, im...</td>\n",
              "    </tr>\n",
              "    <tr>\n",
              "      <th>1</th>\n",
              "      <td>1</td>\n",
              "      <td>Comfort &amp; urgent improvements</td>\n",
              "      <td>[comfort, seat, seat comfort, service, need, p...</td>\n",
              "    </tr>\n",
              "    <tr>\n",
              "      <th>2</th>\n",
              "      <td>2</td>\n",
              "      <td>Customer service &amp; value for money</td>\n",
              "      <td>[service, customer, customer service, worth mo...</td>\n",
              "    </tr>\n",
              "    <tr>\n",
              "      <th>3</th>\n",
              "      <td>3</td>\n",
              "      <td>Bike condition problems</td>\n",
              "      <td>[bike, condition, experience, decent, rental, ...</td>\n",
              "    </tr>\n",
              "    <tr>\n",
              "      <th>4</th>\n",
              "      <td>4</td>\n",
              "      <td>App issues &amp; wait times</td>\n",
              "      <td>[disappointed, disaster disappointed, disaster...</td>\n",
              "    </tr>\n",
              "    <tr>\n",
              "      <th>5</th>\n",
              "      <td>5</td>\n",
              "      <td>Ride quality (best vs worst)</td>\n",
              "      <td>[ride, entire, process, quality, experience, e...</td>\n",
              "    </tr>\n",
              "    <tr>\n",
              "      <th>6</th>\n",
              "      <td>6</td>\n",
              "      <td>Positive experiences &amp; praise</td>\n",
              "      <td>[experience, loved, ride, bike, absolutely lov...</td>\n",
              "    </tr>\n",
              "    <tr>\n",
              "      <th>7</th>\n",
              "      <td>7</td>\n",
              "      <td>Staff helpfulness &amp; seamless process</td>\n",
              "      <td>[process, rental, staff, support staff, suppor...</td>\n",
              "    </tr>\n",
              "  </tbody>\n",
              "</table>\n",
              "</div>\n",
              "    <div class=\"colab-df-buttons\">\n",
              "\n",
              "  <div class=\"colab-df-container\">\n",
              "    <button class=\"colab-df-convert\" onclick=\"convertToInteractive('df-2f786dd0-6c50-46c0-963f-b67ee584c8e5')\"\n",
              "            title=\"Convert this dataframe to an interactive table.\"\n",
              "            style=\"display:none;\">\n",
              "\n",
              "  <svg xmlns=\"http://www.w3.org/2000/svg\" height=\"24px\" viewBox=\"0 -960 960 960\">\n",
              "    <path d=\"M120-120v-720h720v720H120Zm60-500h600v-160H180v160Zm220 220h160v-160H400v160Zm0 220h160v-160H400v160ZM180-400h160v-160H180v160Zm440 0h160v-160H620v160ZM180-180h160v-160H180v160Zm440 0h160v-160H620v160Z\"/>\n",
              "  </svg>\n",
              "    </button>\n",
              "\n",
              "  <style>\n",
              "    .colab-df-container {\n",
              "      display:flex;\n",
              "      gap: 12px;\n",
              "    }\n",
              "\n",
              "    .colab-df-convert {\n",
              "      background-color: #E8F0FE;\n",
              "      border: none;\n",
              "      border-radius: 50%;\n",
              "      cursor: pointer;\n",
              "      display: none;\n",
              "      fill: #1967D2;\n",
              "      height: 32px;\n",
              "      padding: 0 0 0 0;\n",
              "      width: 32px;\n",
              "    }\n",
              "\n",
              "    .colab-df-convert:hover {\n",
              "      background-color: #E2EBFA;\n",
              "      box-shadow: 0px 1px 2px rgba(60, 64, 67, 0.3), 0px 1px 3px 1px rgba(60, 64, 67, 0.15);\n",
              "      fill: #174EA6;\n",
              "    }\n",
              "\n",
              "    .colab-df-buttons div {\n",
              "      margin-bottom: 4px;\n",
              "    }\n",
              "\n",
              "    [theme=dark] .colab-df-convert {\n",
              "      background-color: #3B4455;\n",
              "      fill: #D2E3FC;\n",
              "    }\n",
              "\n",
              "    [theme=dark] .colab-df-convert:hover {\n",
              "      background-color: #434B5C;\n",
              "      box-shadow: 0px 1px 3px 1px rgba(0, 0, 0, 0.15);\n",
              "      filter: drop-shadow(0px 1px 2px rgba(0, 0, 0, 0.3));\n",
              "      fill: #FFFFFF;\n",
              "    }\n",
              "  </style>\n",
              "\n",
              "    <script>\n",
              "      const buttonEl =\n",
              "        document.querySelector('#df-2f786dd0-6c50-46c0-963f-b67ee584c8e5 button.colab-df-convert');\n",
              "      buttonEl.style.display =\n",
              "        google.colab.kernel.accessAllowed ? 'block' : 'none';\n",
              "\n",
              "      async function convertToInteractive(key) {\n",
              "        const element = document.querySelector('#df-2f786dd0-6c50-46c0-963f-b67ee584c8e5');\n",
              "        const dataTable =\n",
              "          await google.colab.kernel.invokeFunction('convertToInteractive',\n",
              "                                                    [key], {});\n",
              "        if (!dataTable) return;\n",
              "\n",
              "        const docLinkHtml = 'Like what you see? Visit the ' +\n",
              "          '<a target=\"_blank\" href=https://colab.research.google.com/notebooks/data_table.ipynb>data table notebook</a>'\n",
              "          + ' to learn more about interactive tables.';\n",
              "        element.innerHTML = '';\n",
              "        dataTable['output_type'] = 'display_data';\n",
              "        await google.colab.output.renderOutput(dataTable, element);\n",
              "        const docLink = document.createElement('div');\n",
              "        docLink.innerHTML = docLinkHtml;\n",
              "        element.appendChild(docLink);\n",
              "      }\n",
              "    </script>\n",
              "  </div>\n",
              "\n",
              "\n",
              "    <div id=\"df-283ae7a8-c6fc-495d-b666-24676927388d\">\n",
              "      <button class=\"colab-df-quickchart\" onclick=\"quickchart('df-283ae7a8-c6fc-495d-b666-24676927388d')\"\n",
              "                title=\"Suggest charts\"\n",
              "                style=\"display:none;\">\n",
              "\n",
              "<svg xmlns=\"http://www.w3.org/2000/svg\" height=\"24px\"viewBox=\"0 0 24 24\"\n",
              "     width=\"24px\">\n",
              "    <g>\n",
              "        <path d=\"M19 3H5c-1.1 0-2 .9-2 2v14c0 1.1.9 2 2 2h14c1.1 0 2-.9 2-2V5c0-1.1-.9-2-2-2zM9 17H7v-7h2v7zm4 0h-2V7h2v10zm4 0h-2v-4h2v4z\"/>\n",
              "    </g>\n",
              "</svg>\n",
              "      </button>\n",
              "\n",
              "<style>\n",
              "  .colab-df-quickchart {\n",
              "      --bg-color: #E8F0FE;\n",
              "      --fill-color: #1967D2;\n",
              "      --hover-bg-color: #E2EBFA;\n",
              "      --hover-fill-color: #174EA6;\n",
              "      --disabled-fill-color: #AAA;\n",
              "      --disabled-bg-color: #DDD;\n",
              "  }\n",
              "\n",
              "  [theme=dark] .colab-df-quickchart {\n",
              "      --bg-color: #3B4455;\n",
              "      --fill-color: #D2E3FC;\n",
              "      --hover-bg-color: #434B5C;\n",
              "      --hover-fill-color: #FFFFFF;\n",
              "      --disabled-bg-color: #3B4455;\n",
              "      --disabled-fill-color: #666;\n",
              "  }\n",
              "\n",
              "  .colab-df-quickchart {\n",
              "    background-color: var(--bg-color);\n",
              "    border: none;\n",
              "    border-radius: 50%;\n",
              "    cursor: pointer;\n",
              "    display: none;\n",
              "    fill: var(--fill-color);\n",
              "    height: 32px;\n",
              "    padding: 0;\n",
              "    width: 32px;\n",
              "  }\n",
              "\n",
              "  .colab-df-quickchart:hover {\n",
              "    background-color: var(--hover-bg-color);\n",
              "    box-shadow: 0 1px 2px rgba(60, 64, 67, 0.3), 0 1px 3px 1px rgba(60, 64, 67, 0.15);\n",
              "    fill: var(--button-hover-fill-color);\n",
              "  }\n",
              "\n",
              "  .colab-df-quickchart-complete:disabled,\n",
              "  .colab-df-quickchart-complete:disabled:hover {\n",
              "    background-color: var(--disabled-bg-color);\n",
              "    fill: var(--disabled-fill-color);\n",
              "    box-shadow: none;\n",
              "  }\n",
              "\n",
              "  .colab-df-spinner {\n",
              "    border: 2px solid var(--fill-color);\n",
              "    border-color: transparent;\n",
              "    border-bottom-color: var(--fill-color);\n",
              "    animation:\n",
              "      spin 1s steps(1) infinite;\n",
              "  }\n",
              "\n",
              "  @keyframes spin {\n",
              "    0% {\n",
              "      border-color: transparent;\n",
              "      border-bottom-color: var(--fill-color);\n",
              "      border-left-color: var(--fill-color);\n",
              "    }\n",
              "    20% {\n",
              "      border-color: transparent;\n",
              "      border-left-color: var(--fill-color);\n",
              "      border-top-color: var(--fill-color);\n",
              "    }\n",
              "    30% {\n",
              "      border-color: transparent;\n",
              "      border-left-color: var(--fill-color);\n",
              "      border-top-color: var(--fill-color);\n",
              "      border-right-color: var(--fill-color);\n",
              "    }\n",
              "    40% {\n",
              "      border-color: transparent;\n",
              "      border-right-color: var(--fill-color);\n",
              "      border-top-color: var(--fill-color);\n",
              "    }\n",
              "    60% {\n",
              "      border-color: transparent;\n",
              "      border-right-color: var(--fill-color);\n",
              "    }\n",
              "    80% {\n",
              "      border-color: transparent;\n",
              "      border-right-color: var(--fill-color);\n",
              "      border-bottom-color: var(--fill-color);\n",
              "    }\n",
              "    90% {\n",
              "      border-color: transparent;\n",
              "      border-bottom-color: var(--fill-color);\n",
              "    }\n",
              "  }\n",
              "</style>\n",
              "\n",
              "      <script>\n",
              "        async function quickchart(key) {\n",
              "          const quickchartButtonEl =\n",
              "            document.querySelector('#' + key + ' button');\n",
              "          quickchartButtonEl.disabled = true;  // To prevent multiple clicks.\n",
              "          quickchartButtonEl.classList.add('colab-df-spinner');\n",
              "          try {\n",
              "            const charts = await google.colab.kernel.invokeFunction(\n",
              "                'suggestCharts', [key], {});\n",
              "          } catch (error) {\n",
              "            console.error('Error during call to suggestCharts:', error);\n",
              "          }\n",
              "          quickchartButtonEl.classList.remove('colab-df-spinner');\n",
              "          quickchartButtonEl.classList.add('colab-df-quickchart-complete');\n",
              "        }\n",
              "        (() => {\n",
              "          let quickchartButtonEl =\n",
              "            document.querySelector('#df-283ae7a8-c6fc-495d-b666-24676927388d button');\n",
              "          quickchartButtonEl.style.display =\n",
              "            google.colab.kernel.accessAllowed ? 'block' : 'none';\n",
              "        })();\n",
              "      </script>\n",
              "    </div>\n",
              "\n",
              "  <div id=\"id_a2205a2e-352f-470e-856d-bd3b94c53084\">\n",
              "    <style>\n",
              "      .colab-df-generate {\n",
              "        background-color: #E8F0FE;\n",
              "        border: none;\n",
              "        border-radius: 50%;\n",
              "        cursor: pointer;\n",
              "        display: none;\n",
              "        fill: #1967D2;\n",
              "        height: 32px;\n",
              "        padding: 0 0 0 0;\n",
              "        width: 32px;\n",
              "      }\n",
              "\n",
              "      .colab-df-generate:hover {\n",
              "        background-color: #E2EBFA;\n",
              "        box-shadow: 0px 1px 2px rgba(60, 64, 67, 0.3), 0px 1px 3px 1px rgba(60, 64, 67, 0.15);\n",
              "        fill: #174EA6;\n",
              "      }\n",
              "\n",
              "      [theme=dark] .colab-df-generate {\n",
              "        background-color: #3B4455;\n",
              "        fill: #D2E3FC;\n",
              "      }\n",
              "\n",
              "      [theme=dark] .colab-df-generate:hover {\n",
              "        background-color: #434B5C;\n",
              "        box-shadow: 0px 1px 3px 1px rgba(0, 0, 0, 0.15);\n",
              "        filter: drop-shadow(0px 1px 2px rgba(0, 0, 0, 0.3));\n",
              "        fill: #FFFFFF;\n",
              "      }\n",
              "    </style>\n",
              "    <button class=\"colab-df-generate\" onclick=\"generateWithVariable('topics_df')\"\n",
              "            title=\"Generate code using this dataframe.\"\n",
              "            style=\"display:none;\">\n",
              "\n",
              "  <svg xmlns=\"http://www.w3.org/2000/svg\" height=\"24px\"viewBox=\"0 0 24 24\"\n",
              "       width=\"24px\">\n",
              "    <path d=\"M7,19H8.4L18.45,9,17,7.55,7,17.6ZM5,21V16.75L18.45,3.32a2,2,0,0,1,2.83,0l1.4,1.43a1.91,1.91,0,0,1,.58,1.4,1.91,1.91,0,0,1-.58,1.4L9.25,21ZM18.45,9,17,7.55Zm-12,3A5.31,5.31,0,0,0,4.9,8.1,5.31,5.31,0,0,0,1,6.5,5.31,5.31,0,0,0,4.9,4.9,5.31,5.31,0,0,0,6.5,1,5.31,5.31,0,0,0,8.1,4.9,5.31,5.31,0,0,0,12,6.5,5.46,5.46,0,0,0,6.5,12Z\"/>\n",
              "  </svg>\n",
              "    </button>\n",
              "    <script>\n",
              "      (() => {\n",
              "      const buttonEl =\n",
              "        document.querySelector('#id_a2205a2e-352f-470e-856d-bd3b94c53084 button.colab-df-generate');\n",
              "      buttonEl.style.display =\n",
              "        google.colab.kernel.accessAllowed ? 'block' : 'none';\n",
              "\n",
              "      buttonEl.onclick = () => {\n",
              "        google.colab.notebook.generateWithVariable('topics_df');\n",
              "      }\n",
              "      })();\n",
              "    </script>\n",
              "  </div>\n",
              "\n",
              "    </div>\n",
              "  </div>\n"
            ],
            "application/vnd.google.colaboratory.intrinsic+json": {
              "type": "dataframe",
              "variable_name": "topics_df",
              "summary": "{\n  \"name\": \"topics_df\",\n  \"rows\": 8,\n  \"fields\": [\n    {\n      \"column\": \"topic_id\",\n      \"properties\": {\n        \"dtype\": \"number\",\n        \"std\": 2,\n        \"min\": 0,\n        \"max\": 7,\n        \"num_unique_values\": 8,\n        \"samples\": [\n          1,\n          5,\n          0\n        ],\n        \"semantic_type\": \"\",\n        \"description\": \"\"\n      }\n    },\n    {\n      \"column\": \"topic_name\",\n      \"properties\": {\n        \"dtype\": \"string\",\n        \"num_unique_values\": 8,\n        \"samples\": [\n          \"Comfort & urgent improvements\",\n          \"Ride quality (best vs worst)\",\n          \"Rental experience & fun\"\n        ],\n        \"semantic_type\": \"\",\n        \"description\": \"\"\n      }\n    },\n    {\n      \"column\": \"top_words\",\n      \"properties\": {\n        \"dtype\": \"object\",\n        \"semantic_type\": \"\",\n        \"description\": \"\"\n      }\n    }\n  ]\n}"
            }
          },
          "metadata": {}
        }
      ]
    },
    {
      "cell_type": "markdown",
      "source": [
        "Graph"
      ],
      "metadata": {
        "id": "f7xU5KLOAE8N"
      }
    },
    {
      "cell_type": "code",
      "source": [
        "import matplotlib.pyplot as plt\n",
        "import seaborn as sns\n",
        "import numpy as np\n",
        "\n",
        "topic_dist = lda.transform(X)\n",
        "df[\"dominant_topic\"] = topic_dist.argmax(axis=1)\n",
        "\n",
        "df[\"topic_name\"] = df[\"dominant_topic\"].map(topic_names)\n",
        "\n",
        "sent_topic_counts = df.groupby([\"topic_name\", \"sentiment_label\"]).size().reset_index(name=\"count\")\n",
        "\n",
        "plt.figure(figsize=(12,6))\n",
        "sns.barplot(\n",
        "    data=sent_topic_counts,\n",
        "    x=\"topic_name\", y=\"count\", hue=\"sentiment_label\"\n",
        ")\n",
        "\n",
        "plt.xticks(rotation=45, ha=\"right\")\n",
        "plt.title(\"Sentiment Distribution by Topic\")\n",
        "plt.ylabel(\"Number of Reviews\")\n",
        "plt.xlabel(\"Topic\")\n",
        "plt.legend(title=\"Sentiment\")\n",
        "plt.tight_layout()\n",
        "plt.show()"
      ],
      "metadata": {
        "colab": {
          "base_uri": "https://localhost:8080/",
          "height": 311
        },
        "id": "9LaaUL_tAF_3",
        "outputId": "1e450cb0-57ae-4a10-fb98-1ea8214ad60c"
      },
      "execution_count": null,
      "outputs": [
        {
          "output_type": "display_data",
          "data": {
            "text/plain": [
              "<Figure size 1200x600 with 1 Axes>"
            ],
            "image/png": "[encoded data removed]"
          },
          "metadata": {}
        }
      ]
    }
  ]
}